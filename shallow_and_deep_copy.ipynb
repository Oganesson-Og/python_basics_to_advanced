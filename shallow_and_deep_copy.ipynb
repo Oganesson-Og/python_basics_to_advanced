{
 "cells": [
  {
   "cell_type": "code",
   "execution_count": 5,
   "metadata": {},
   "outputs": [
    {
     "name": "stdout",
     "output_type": "stream",
     "text": [
      " 5 \n",
      " 5\n",
      " 5 \n",
      " 7\n"
     ]
    }
   ],
   "source": [
    "# When dealing with immutable types like integers, new variables \n",
    "original = 5\n",
    "copy = original\n",
    "'''print('',original, '\\n', copy)'''\n",
    "# now copy is equal to original but they only share the same referrence. \n",
    "# To create a different referrence for copy you have to initiate it separately\n",
    "copy = 7\n",
    "print('',original, '\\n', copy)"
   ]
  },
  {
   "cell_type": "code",
   "execution_count": 6,
   "metadata": {},
   "outputs": [
    {
     "name": "stdout",
     "output_type": "stream",
     "text": [
      " [997, 3, 5, 7, 11, 13] \n",
      " [997, 3, 5, 7, 11, 13]\n"
     ]
    }
   ],
   "source": [
    "# When working with mutable list. Changing a copy affects the original one as they share refference \n",
    "original = [2, 3, 5, 7, 11, 13]\n",
    "copy = original\n",
    "copy[0] = 997\n",
    "print('',original, '\\n', copy)"
   ]
  },
  {
   "cell_type": "code",
   "execution_count": 9,
   "metadata": {},
   "outputs": [
    {
     "name": "stdout",
     "output_type": "stream",
     "text": [
      " [2, 3, 5, 7, 11, 13] \n",
      " [997, 3, 5, 7, 11, 13] \n",
      " [2, 3, 5, 7, 11, 13] \n",
      " [2, 3, 5, 7, 11, 13] \n",
      " [2, 3, 5, 7, 11, 13]\n"
     ]
    }
   ],
   "source": [
    "import copy\n",
    "\n",
    "\n",
    "# To make a shallow copy \n",
    "original = [2, 3, 5, 7, 11, 13]\n",
    "copy = copy.copy(original)\n",
    "copy2 = original.copy()\n",
    "copy3 = list(original)\n",
    "copy4 = original[:]\n",
    "copy[0] = 997\n",
    "print('',original,'\\n', copy,'\\n', copy2,'\\n', copy3,'\\n', copy4)"
   ]
  },
  {
   "cell_type": "code",
   "execution_count": 12,
   "metadata": {},
   "outputs": [
    {
     "name": "stdout",
     "output_type": "stream",
     "text": [
      "[[2, 3, 5, 7, 11, 997], [997, 3, 5, 7, 11, 13], [2, 3, 5, 7, 11, 13], [2, 3, 5, 7, 11, 13], [2, 3, 5, 7, 11, 13]] \n",
      " [[2, 3, 5, 7, 11, 997], [997, 3, 5, 7, 11, 13], [2, 3, 5, 7, 11, 13], [2, 3, 5, 7, 11, 13], [2, 3, 5, 7, 11, 13]]\n"
     ]
    }
   ],
   "source": [
    "# Shallow copy is one level deep so if you have nested lists and you use copy. Changes will propagate back to the original.\n",
    "org = [[2, 3, 5, 7, 11, 13],\n",
    " [997, 3, 5, 7, 11, 13],\n",
    " [2, 3, 5, 7, 11, 13],\n",
    " [2, 3, 5, 7, 11, 13],\n",
    " [2, 3, 5, 7, 11, 13]]\n",
    "\n",
    "cpy = copy.copy(org)\n",
    "cpy[0][5] = 997\n",
    "print(org, '\\n',  cpy)"
   ]
  },
  {
   "cell_type": "code",
   "execution_count": 13,
   "metadata": {},
   "outputs": [
    {
     "name": "stdout",
     "output_type": "stream",
     "text": [
      "[[2, 3, 5, 7, 11, 13], [997, 3, 5, 7, 11, 13], [2, 3, 5, 7, 11, 13], [2, 3, 5, 7, 11, 13], [2, 3, 5, 7, 11, 13]] \n",
      " [[2, 3, 5, 7, 11, 997], [997, 3, 5, 7, 11, 13], [2, 3, 5, 7, 11, 13], [2, 3, 5, 7, 11, 13], [2, 3, 5, 7, 11, 13]]\n"
     ]
    }
   ],
   "source": [
    "# Use deep copy instead\n",
    "orgaz = [[2, 3, 5, 7, 11, 13],\n",
    " [997, 3, 5, 7, 11, 13],\n",
    " [2, 3, 5, 7, 11, 13],\n",
    " [2, 3, 5, 7, 11, 13],\n",
    " [2, 3, 5, 7, 11, 13]]\n",
    "\n",
    "cpaz = copy.deepcopy(orgaz)\n",
    "cpaz[0][5] = 997\n",
    "print(orgaz, '\\n',  cpaz)"
   ]
  },
  {
   "cell_type": "code",
   "execution_count": 15,
   "metadata": {},
   "outputs": [
    {
     "name": "stdout",
     "output_type": "stream",
     "text": [
      "31 \n",
      " 27\n"
     ]
    }
   ],
   "source": [
    "# The shallow and deep copying methods described above alsowork with custom onjects like class instances. Lets start with shallow copying.\n",
    "    \n",
    "class Person:\n",
    "    def __init__(self, name, age):\n",
    "        self.name = name\n",
    "        self.age = age\n",
    "        \n",
    "        \n",
    "first = Person('Keith', 31)\n",
    "second = copy.copy(first)\n",
    "\n",
    "second.age = 27\n",
    "\n",
    "print(first.age, '\\n', second.age)"
   ]
  },
  {
   "cell_type": "code",
   "execution_count": 19,
   "metadata": {},
   "outputs": [
    {
     "name": "stdout",
     "output_type": "stream",
     "text": [
      "Pogba \n",
      " Pogba\n"
     ]
    }
   ],
   "source": [
    "class Company:\n",
    "    def __init__(self, boss, employee):\n",
    "        self.boss = boss\n",
    "        self.employee = employee\n",
    "        \n",
    "\n",
    "guy1 = Person('Bozza', 37)\n",
    "guy2 = Person('Amapiano', 23)\n",
    "\n",
    "first_firm = Company(guy1, guy2)\n",
    "second_firm = copy.copy(first_firm)\n",
    "# After the shallow copy above we can do a change to see what happens\n",
    "second_firm.boss.name = 'Pogba'\n",
    "\n",
    "# now lets print to check\n",
    "\n",
    "print(second_firm.boss.name, '\\n', first_firm.boss.name)\n",
    "\n",
    "# This shows that level two data gets affected if we have shallow copy. We can use deep copy instead"
   ]
  },
  {
   "cell_type": "code",
   "execution_count": 20,
   "metadata": {},
   "outputs": [
    {
     "name": "stdout",
     "output_type": "stream",
     "text": [
      "Pogba \n",
      " Bozza\n"
     ]
    }
   ],
   "source": [
    "# now with deep copy\n",
    "\n",
    "\n",
    "guy1 = Person('Bozza', 37)\n",
    "guy2 = Person('Amapiano', 23)\n",
    "\n",
    "first_firm = Company(guy1, guy2)\n",
    "second_firm = copy.deepcopy(first_firm)\n",
    "# After the shallow copy above we can do a change to see what happens\n",
    "second_firm.boss.name = 'Pogba'\n",
    "print(second_firm.boss.name, '\\n', first_firm.boss.name)"
   ]
  },
  {
   "cell_type": "code",
   "execution_count": null,
   "metadata": {},
   "outputs": [],
   "source": []
  }
 ],
 "metadata": {
  "kernelspec": {
   "display_name": "Python 3",
   "language": "python",
   "name": "python3"
  },
  "language_info": {
   "codemirror_mode": {
    "name": "ipython",
    "version": 3
   },
   "file_extension": ".py",
   "mimetype": "text/x-python",
   "name": "python",
   "nbconvert_exporter": "python",
   "pygments_lexer": "ipython3",
   "version": "3.7.6"
  }
 },
 "nbformat": 4,
 "nbformat_minor": 4
}

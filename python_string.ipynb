{
 "cells": [
  {
   "cell_type": "markdown",
   "metadata": {},
   "source": [
    "# To cherry pick or reverse characters in a string you can use ::"
   ]
  },
  {
   "cell_type": "code",
   "execution_count": 3,
   "metadata": {},
   "outputs": [
    {
     "name": "stdout",
     "output_type": "stream",
     "text": [
      "Kihi  eis\n",
      "suineg a si htieK\n"
     ]
    }
   ],
   "source": [
    "my_string = \"Keith is a genius\"\n",
    "\n",
    "second = my_string[::2]\n",
    "third = my_string[::-1]\n",
    "print(second)\n",
    "print(third)"
   ]
  },
  {
   "cell_type": "markdown",
   "metadata": {},
   "source": [
    "# Looping and checking a substring"
   ]
  },
  {
   "cell_type": "code",
   "execution_count": 4,
   "metadata": {},
   "outputs": [
    {
     "name": "stdout",
     "output_type": "stream",
     "text": [
      "K\n",
      "e\n",
      "i\n",
      "t\n",
      "h\n",
      " \n",
      "i\n",
      "s\n",
      " \n",
      "a\n",
      " \n",
      "g\n",
      "e\n",
      "n\n",
      "i\n",
      "u\n",
      "s\n",
      "fanta\n"
     ]
    }
   ],
   "source": [
    "for i in my_string:\n",
    "    print(i)\n",
    "\n",
    "    \n",
    "if i in my_string:\n",
    "    print('fanta')\n",
    "else:\n",
    "    print('Coke')"
   ]
  },
  {
   "cell_type": "markdown",
   "metadata": {},
   "source": [
    "# Checking is a string starts with something or ends with"
   ]
  },
  {
   "cell_type": "code",
   "execution_count": 9,
   "metadata": {},
   "outputs": [
    {
     "name": "stdout",
     "output_type": "stream",
     "text": [
      "True  : False\n",
      "The ending is first True: then : False!\n"
     ]
    }
   ],
   "source": [
    "a = my_string.startswith('K')\n",
    "b = my_string.startswith('S')\n",
    "\n",
    "print(a, ' :', b)\n",
    "\n",
    "c = my_string.endswith('ius')\n",
    "d = my_string.endswith('Oga')\n",
    "\n",
    "print(f'The ending is first {c}: then : {d}!')"
   ]
  },
  {
   "cell_type": "markdown",
   "metadata": {},
   "source": [
    "# finding characters using find and count"
   ]
  },
  {
   "cell_type": "code",
   "execution_count": 10,
   "metadata": {},
   "outputs": [
    {
     "name": "stdout",
     "output_type": "stream",
     "text": [
      "Lets find 0: then : -1!\n"
     ]
    }
   ],
   "source": [
    "e = my_string.find('Ke')\n",
    "f = my_string.find('oganesson')\n",
    "\n",
    "print(f'Lets find {e}: then : {f}!')"
   ]
  },
  {
   "cell_type": "markdown",
   "metadata": {},
   "source": [
    "# replacing characters into a new variable using the replace method"
   ]
  },
  {
   "cell_type": "code",
   "execution_count": 11,
   "metadata": {},
   "outputs": [
    {
     "name": "stdout",
     "output_type": "stream",
     "text": [
      "Oganesson is a genius\n"
     ]
    }
   ],
   "source": [
    "new_variable = my_string.replace('Keith', 'Oganesson')\n",
    "print(new_variable)"
   ]
  },
  {
   "cell_type": "markdown",
   "metadata": {},
   "source": [
    "# Joining elements from a list or string "
   ]
  },
  {
   "cell_type": "code",
   "execution_count": 14,
   "metadata": {},
   "outputs": [
    {
     "name": "stdout",
     "output_type": "stream",
     "text": [
      "bonafide  next is:  Keith is a genius\n"
     ]
    }
   ],
   "source": [
    "my_list = ['b', 'o', 'n', 'a', 'f', 'i', 'd', 'e']\n",
    "first_word = ''.join(my_list)\n",
    "second_word = ''.join(my_string)\n",
    "\n",
    "print(first_word,\" next is: \", second_word)"
   ]
  },
  {
   "cell_type": "code",
   "execution_count": null,
   "metadata": {},
   "outputs": [],
   "source": []
  }
 ],
 "metadata": {
  "kernelspec": {
   "display_name": "Python 3",
   "language": "python",
   "name": "python3"
  },
  "language_info": {
   "codemirror_mode": {
    "name": "ipython",
    "version": 3
   },
   "file_extension": ".py",
   "mimetype": "text/x-python",
   "name": "python",
   "nbconvert_exporter": "python",
   "pygments_lexer": "ipython3",
   "version": "3.7.6"
  }
 },
 "nbformat": 4,
 "nbformat_minor": 4
}

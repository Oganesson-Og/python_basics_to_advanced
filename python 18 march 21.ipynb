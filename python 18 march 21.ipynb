{
 "cells": [
  {
   "cell_type": "code",
   "execution_count": 3,
   "metadata": {},
   "outputs": [
    {
     "name": "stdout",
     "output_type": "stream",
     "text": [
      "4\n",
      "not wierd\n"
     ]
    }
   ],
   "source": [
    "d = int(input().strip())\n",
    "\n",
    "if d%2!=0:\n",
    "    print('wierd')\n",
    "elif (d>=2) and (d<=5):\n",
    "    print(\"not wierd\")\n",
    "elif (d>=6) and (d<=20):\n",
    "    print('wierd')\n",
    "elif (d<20):\n",
    "    print('not wierd')\n",
    "    "
   ]
  },
  {
   "cell_type": "code",
   "execution_count": 8,
   "metadata": {},
   "outputs": [
    {
     "name": "stdout",
     "output_type": "stream",
     "text": [
      "5 3\n",
      "8\n",
      "2\n",
      "1.6666666666666667\n"
     ]
    }
   ],
   "source": [
    "c = list(map(int, input().split()))\n",
    "a = c[0]\n",
    "b = c[1]\n",
    "\n",
    "print(a+b)\n",
    "print(a-b)\n",
    "print(a/b)"
   ]
  },
  {
   "cell_type": "code",
   "execution_count": 9,
   "metadata": {},
   "outputs": [
    {
     "name": "stdout",
     "output_type": "stream",
     "text": [
      "5\n",
      "0\n",
      "1\n",
      "4\n",
      "9\n",
      "16\n"
     ]
    }
   ],
   "source": [
    "N = int(input().strip())\n",
    "\n",
    "for i in range(N):\n",
    "    print(i*i)"
   ]
  },
  {
   "cell_type": "code",
   "execution_count": 11,
   "metadata": {},
   "outputs": [
    {
     "name": "stdout",
     "output_type": "stream",
     "text": [
      "3000\n",
      "This is not a Leap Year\n"
     ]
    }
   ],
   "source": [
    "year = int(input().strip())\n",
    "\n",
    "def gregorian_calender(year):\n",
    "    if year%4 !=0:\n",
    "        print('This is not a Leap Year')\n",
    "    elif (year%100==0) and (year%400!=0):\n",
    "        print('This is not a Leap Year')\n",
    "    else:\n",
    "        print('This is a Leap Year')\n",
    "        \n",
    "gregorian_calender(year)"
   ]
  },
  {
   "cell_type": "code",
   "execution_count": 13,
   "metadata": {},
   "outputs": [
    {
     "name": "stdout",
     "output_type": "stream",
     "text": [
      "4 5 3\n",
      "[(0, 0, 0), (0, 0, 1), (0, 0, 2), (0, 1, 0), (0, 1, 1), (0, 1, 2), (0, 2, 0), (0, 2, 1), (0, 2, 2), (0, 3, 0), (0, 3, 1), (0, 3, 2), (0, 4, 0), (0, 4, 1), (0, 4, 2), (1, 0, 0), (1, 0, 1), (1, 0, 2), (1, 1, 0), (1, 1, 1), (1, 1, 2), (1, 2, 0), (1, 2, 1), (1, 2, 2), (1, 3, 0), (1, 3, 1), (1, 3, 2), (1, 4, 0), (1, 4, 1), (1, 4, 2), (2, 0, 0), (2, 0, 1), (2, 0, 2), (2, 1, 0), (2, 1, 1), (2, 1, 2), (2, 2, 0), (2, 2, 1), (2, 2, 2), (2, 3, 0), (2, 3, 1), (2, 3, 2), (2, 4, 0), (2, 4, 1), (2, 4, 2), (3, 0, 0), (3, 0, 1), (3, 0, 2), (3, 1, 0), (3, 1, 1), (3, 1, 2), (3, 2, 0), (3, 2, 1), (3, 2, 2), (3, 3, 0), (3, 3, 1), (3, 3, 2), (3, 4, 0), (3, 4, 1), (3, 4, 2)]\n"
     ]
    }
   ],
   "source": [
    "LIST = list(map(int, input().split()))\n",
    "X = LIST[0]\n",
    "Y = LIST[1]\n",
    "Z = LIST[2]\n",
    "\n",
    "collection = [(i, j, k) for i in range(X) for j in range(Y) for k in range(Z)]\n",
    "\n",
    "print(collection)"
   ]
  },
  {
   "cell_type": "code",
   "execution_count": 15,
   "metadata": {},
   "outputs": [
    {
     "name": "stdout",
     "output_type": "stream",
     "text": [
      "4 5 5 7\n",
      "[(0, 0, 0), (0, 0, 1), (0, 0, 2), (0, 0, 3), (0, 0, 4), (0, 1, 0), (0, 1, 1), (0, 1, 2), (0, 1, 3), (0, 1, 4), (0, 2, 0), (0, 2, 1), (0, 2, 2), (0, 2, 3), (0, 2, 4), (0, 3, 0), (0, 3, 1), (0, 3, 2), (0, 3, 3), (0, 4, 0), (0, 4, 1), (0, 4, 2), (1, 0, 0), (1, 0, 1), (1, 0, 2), (1, 0, 3), (1, 0, 4), (1, 1, 0), (1, 1, 1), (1, 1, 2), (1, 1, 3), (1, 1, 4), (1, 2, 0), (1, 2, 1), (1, 2, 2), (1, 2, 3), (1, 3, 0), (1, 3, 1), (1, 3, 2), (1, 4, 0), (1, 4, 1), (2, 0, 0), (2, 0, 1), (2, 0, 2), (2, 0, 3), (2, 0, 4), (2, 1, 0), (2, 1, 1), (2, 1, 2), (2, 1, 3), (2, 2, 0), (2, 2, 1), (2, 2, 2), (2, 3, 0), (2, 3, 1), (2, 4, 0), (3, 0, 0), (3, 0, 1), (3, 0, 2), (3, 0, 3), (3, 1, 0), (3, 1, 1), (3, 1, 2), (3, 2, 0), (3, 2, 1), (3, 3, 0)]\n"
     ]
    }
   ],
   "source": [
    "LIST = list(map(int, input().split()))\n",
    "X = LIST[0]\n",
    "Y = LIST[1]\n",
    "Z = LIST[2]\n",
    "n = LIST[3]\n",
    "\n",
    "collection = [(i, j, k) for i in range(X) for j in range(Y) for k in range(Z) if (i+j+k)<n]\n",
    "\n",
    "print(collection)"
   ]
  },
  {
   "cell_type": "code",
   "execution_count": 22,
   "metadata": {},
   "outputs": [
    {
     "name": "stdout",
     "output_type": "stream",
     "text": [
      "3 2 31 23 17 37 7\n",
      "31\n"
     ]
    }
   ],
   "source": [
    "scores = list(map(int, input().split()))\n",
    "scores_sorted = list(sorted(scores))\n",
    "print(scores_sorted[-2])"
   ]
  },
  {
   "cell_type": "code",
   "execution_count": 41,
   "metadata": {},
   "outputs": [
    {
     "name": "stdout",
     "output_type": "stream",
     "text": [
      "How many students are in this class5\n",
      "Please enter a student's name: k\n",
      "Now, kindly enter k's Physics score: 90\n",
      "Please enter a student's name: ke\n",
      "Now, kindly enter ke's Physics score: 60\n",
      "Please enter a student's name: kei\n",
      "Now, kindly enter kei's Physics score: 70\n",
      "Please enter a student's name: anna\n",
      "Now, kindly enter anna's Physics score: 70\n",
      "Please enter a student's name: keith\n",
      "Now, kindly enter keith's Physics score: 50\n",
      "[90, 60, 70, 70, 50]\n",
      "['anna', 'kei']\n"
     ]
    }
   ],
   "source": [
    "import collections\n",
    "\n",
    "N = int(input('How many students are in this class').strip())\n",
    "dic = collections.defaultdict(list)\n",
    "score_list = list()\n",
    "\n",
    "\n",
    "for i in range(N):\n",
    "    name = input(\"Please enter a student's name: \")\n",
    "    score = input(f\"Now, kindly enter {name}'s Physics score: \")\n",
    "    dic[score].append(name)\n",
    "    score_list.append(score)\n",
    "    \n",
    "\n",
    "score_list = list(map(int, score_list))\n",
    "print(score_list)\n",
    "score_list = sorted(score_list)\n",
    "a = str(score_list[-2])\n",
    "name_list = sorted(dic[a])\n",
    "print(name_list)\n"
   ]
  },
  {
   "cell_type": "code",
   "execution_count": 58,
   "metadata": {},
   "outputs": [
    {
     "name": "stdout",
     "output_type": "stream",
     "text": [
      "How many students do  you need to record? 3\n",
      "kei 99 98 97\n",
      "courage 87 70 54\n",
      "nigel 78 91 97\n",
      "Please enter the student you need an average for: nigel\n",
      "['78', '91', '97']\n",
      "88.67\n"
     ]
    }
   ],
   "source": [
    "N = int(input('How many students do  you need to record? '))\n",
    "\n",
    "data_dict = collections.defaultdict(list)\n",
    "container = []\n",
    "for i in range(N):\n",
    "    name, maths, physics, chemistry = input().split()\n",
    "    data_dict[name].append(maths)\n",
    "    data_dict[name].append(physics)\n",
    "    data_dict[name].append(chemistry)\n",
    "    \n",
    "    \n",
    "request = input('Please enter the student you need an average for: ')\n",
    "second_container = data_dict[request]\n",
    "print(second_container)\n",
    "second_container = list(map(float, second_container))\n",
    "result = sum(second_container)/len(second_container)\n",
    "result = round(result, 2)\n",
    "print(result)"
   ]
  },
  {
   "cell_type": "code",
   "execution_count": 59,
   "metadata": {},
   "outputs": [
    {
     "name": "stdout",
     "output_type": "stream",
     "text": [
      "3\n",
      "2 3 5\n",
      "3789705017595312001\n"
     ]
    }
   ],
   "source": [
    "n = int(input())\n",
    "collection = tuple(map(int, input().split()))\n",
    "print(hash(collection))"
   ]
  },
  {
   "cell_type": "code",
   "execution_count": 63,
   "metadata": {},
   "outputs": [
    {
     "name": "stdout",
     "output_type": "stream",
     "text": [
      "Keith.Satuku\n",
      "kEITH.sATUKU\n"
     ]
    }
   ],
   "source": [
    "word = input().strip()\n",
    "\n",
    "new_word =''\n",
    "for i in range(len(word)):\n",
    "    if word[i].isupper():\n",
    "        x = word[i].lower()\n",
    "    elif word[i].islower():\n",
    "        x = word[i].upper()\n",
    "    else:\n",
    "        x = word[i]\n",
    "    new_word = new_word+x\n",
    "    \n",
    "    \n",
    "print(new_word)        "
   ]
  },
  {
   "cell_type": "code",
   "execution_count": 64,
   "metadata": {},
   "outputs": [
    {
     "name": "stdout",
     "output_type": "stream",
     "text": [
      "keith is a genius\n",
      "keith-is-a-genius\n"
     ]
    }
   ],
   "source": [
    "word = input().split()\n",
    "word = '-'.join(word)\n",
    "print(word)"
   ]
  },
  {
   "cell_type": "code",
   "execution_count": 71,
   "metadata": {},
   "outputs": [
    {
     "name": "stdout",
     "output_type": "stream",
     "text": [
      "Enter a number: 5\n",
      "12345\n"
     ]
    }
   ],
   "source": [
    "n = int(input('Enter a number: '))\n",
    "\n",
    "collection = []\n",
    "for i in range(n):\n",
    "    j = str(i+1)\n",
    "    collection.append(j)\n",
    "    \n",
    "\n",
    "collection = ''.join(collection)\n",
    "print(collection)"
   ]
  },
  {
   "cell_type": "code",
   "execution_count": 73,
   "metadata": {},
   "outputs": [
    {
     "name": "stdout",
     "output_type": "stream",
     "text": [
      "Enter a number: 6\n",
      "1 2 3 4 5 6\n"
     ]
    }
   ],
   "source": [
    "n = int(input('Enter a number: '))\n",
    "print(*range(1, n+1), sep=' ')"
   ]
  },
  {
   "cell_type": "code",
   "execution_count": 77,
   "metadata": {},
   "outputs": [
    {
     "name": "stdout",
     "output_type": "stream",
     "text": [
      "keitt\n",
      "4 h\n",
      "keith\n"
     ]
    }
   ],
   "source": [
    "string = input().strip()\n",
    "collection = list()\n",
    "position, letter = input().split(' ')\n",
    "position = int(position)\n",
    "\n",
    "new_string = string[:position]+f'{letter}'+string[position+1:]\n",
    "print(new_string)\n"
   ]
  },
  {
   "cell_type": "code",
   "execution_count": null,
   "metadata": {},
   "outputs": [],
   "source": []
  }
 ],
 "metadata": {
  "kernelspec": {
   "display_name": "Python 3",
   "language": "python",
   "name": "python3"
  },
  "language_info": {
   "codemirror_mode": {
    "name": "ipython",
    "version": 3
   },
   "file_extension": ".py",
   "mimetype": "text/x-python",
   "name": "python",
   "nbconvert_exporter": "python",
   "pygments_lexer": "ipython3",
   "version": "3.7.6"
  }
 },
 "nbformat": 4,
 "nbformat_minor": 4
}

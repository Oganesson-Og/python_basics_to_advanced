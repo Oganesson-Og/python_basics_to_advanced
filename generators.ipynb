{
 "cells": [
  {
   "cell_type": "markdown",
   "metadata": {},
   "source": [
    "#  Generators"
   ]
  },
  {
   "cell_type": "code",
   "execution_count": 2,
   "metadata": {},
   "outputs": [
    {
     "name": "stdout",
     "output_type": "stream",
     "text": [
      "<class 'generator'>\n",
      "<generator object mygenerator at 0x000001E31DE9A8C8>\n",
      "[2, 7, 11, 23]\n",
      "0\n"
     ]
    }
   ],
   "source": [
    "def mygenerator():\n",
    "    yield 11\n",
    "    yield 2\n",
    "    yield 7\n",
    "    yield 23\n",
    "    \n",
    "g = mygenerator()\n",
    "print(type(g))\n",
    "print(g)\n",
    "print(sorted(g))\n",
    "print(sum(g))\n",
    "    \n",
    "    \n"
   ]
  },
  {
   "cell_type": "code",
   "execution_count": 9,
   "metadata": {},
   "outputs": [
    {
     "name": "stdout",
     "output_type": "stream",
     "text": [
      "Starting\n",
      "13\n",
      "10\n",
      "7\n",
      "4\n",
      "1\n"
     ]
    }
   ],
   "source": [
    "def countdown(num):\n",
    "    print('Starting')\n",
    "    \n",
    "    while num > 0:\n",
    "        yield num\n",
    "        num-=3\n",
    "        \n",
    "\n",
    "cd = countdown(13)\n",
    "# notice how the countdown function did not print anything despite having a  print starting command\n",
    "\n",
    "\n",
    "for _ in range(5):\n",
    "    print(next(cd))"
   ]
  },
  {
   "cell_type": "markdown",
   "metadata": {},
   "source": [
    "### Generators are memory efficient using their lazy processing method. They save a lot of memory when working with large data"
   ]
  },
  {
   "cell_type": "code",
   "execution_count": 11,
   "metadata": {},
   "outputs": [
    {
     "name": "stdout",
     "output_type": "stream",
     "text": [
      "45\n"
     ]
    }
   ],
   "source": [
    "def firstn(n):\n",
    "    nums = []\n",
    "    num = 0\n",
    "    \n",
    "    while num < n:\n",
    "        nums.append(num)\n",
    "        num +=1\n",
    "    return nums\n",
    "\n",
    "print(sum(firstn(10)))\n",
    "# this takes up a lot of memory as\n"
   ]
  },
  {
   "cell_type": "markdown",
   "metadata": {},
   "source": [
    "### Now lets use a generator to do the same operation as above"
   ]
  },
  {
   "cell_type": "code",
   "execution_count": 18,
   "metadata": {},
   "outputs": [
    {
     "name": "stdout",
     "output_type": "stream",
     "text": [
      "499999500000\n",
      "499999500000\n",
      "8697464\n",
      "120\n"
     ]
    }
   ],
   "source": [
    "# To find the size of our two objects we can import the sys module\n",
    "import sys\n",
    "\n",
    "def firstn_generator(n):\n",
    "    num = 0\n",
    "    \n",
    "    while num <n:\n",
    "        yield num\n",
    "        num+=1\n",
    "        \n",
    "print(sum(firstn(1000000)))\n",
    "print(sum(firstn_generator(1000000)))\n",
    "\n",
    "# Look at the size differential\n",
    "\n",
    "print(sys.getsizeof(firstn(1000000)))\n",
    "print(sys.getsizeof(firstn_generator(1000000)))"
   ]
  },
  {
   "cell_type": "markdown",
   "metadata": {},
   "source": [
    "### Generators also make efficient operations on top of small sizes"
   ]
  },
  {
   "cell_type": "code",
   "execution_count": 21,
   "metadata": {},
   "outputs": [
    {
     "name": "stdout",
     "output_type": "stream",
     "text": [
      "[0, 1, 1, 2, 3, 5, 8, 13, 21, 34, 55, 89, 144]\n"
     ]
    }
   ],
   "source": [
    "def fibonacci(limit):\n",
    "    total = 0\n",
    "    a, b = 0, 1\n",
    "    fibo = [0, 1]\n",
    "    while total < limit:\n",
    "        total = a+b\n",
    "        a = b\n",
    "        b = total\n",
    "        fibo.append(total)\n",
    "        \n",
    "    print(fibo)\n",
    "    \n",
    "fibonacci(100)"
   ]
  },
  {
   "cell_type": "code",
   "execution_count": 37,
   "metadata": {},
   "outputs": [
    {
     "name": "stdout",
     "output_type": "stream",
     "text": [
      "[0, 1, 1, 2, 3, 5, 8, 13, 21, 34, 55, 89, 144]\n"
     ]
    }
   ],
   "source": [
    "def fibonacci(limit):\n",
    "    a, b = 0, 1\n",
    "    total = 1\n",
    "    yield 0\n",
    "    \n",
    "    while a < limit:\n",
    "        yield total\n",
    "        total = a+b\n",
    "        a, b = b, total\n",
    "        \n",
    "\n",
    "    \n",
    "fib = fibonacci(100)\n",
    "fib = str(list(fib))\n",
    "\n",
    "collect = ''.join(fib)\n",
    "print(collect)\n"
   ]
  },
  {
   "cell_type": "markdown",
   "metadata": {},
   "source": [
    "### Generator expressions"
   ]
  },
  {
   "cell_type": "markdown",
   "metadata": {},
   "source": [
    "They are like list comprehensions but with paretheses instead of square brackets"
   ]
  },
  {
   "cell_type": "code",
   "execution_count": 40,
   "metadata": {},
   "outputs": [
    {
     "name": "stdout",
     "output_type": "stream",
     "text": [
      "[0, 2, 4, 6, 8]\n"
     ]
    }
   ],
   "source": [
    "mygenerator = (i for i in range(10) if i%2==0)\n",
    "print(list(mygenerator))"
   ]
  },
  {
   "cell_type": "markdown",
   "metadata": {},
   "source": [
    "Just to compare sizes"
   ]
  },
  {
   "cell_type": "code",
   "execution_count": 42,
   "metadata": {},
   "outputs": [
    {
     "name": "stdout",
     "output_type": "stream",
     "text": [
      "The size of generator object is 120\n",
      "The size of the list object is 406496\n"
     ]
    }
   ],
   "source": [
    "mygenerator = (i for i in range(100000) if i%2==0)\n",
    "mylist = [i for i in range(100000) if i%2==0]\n",
    "print(f'The size of generator object is {sys.getsizeof(mygenerator)}')\n",
    "print(f'The size of the list object is {sys.getsizeof(mylist)}')\n"
   ]
  },
  {
   "cell_type": "code",
   "execution_count": null,
   "metadata": {},
   "outputs": [],
   "source": []
  }
 ],
 "metadata": {
  "kernelspec": {
   "display_name": "Python 3",
   "language": "python",
   "name": "python3"
  },
  "language_info": {
   "codemirror_mode": {
    "name": "ipython",
    "version": 3
   },
   "file_extension": ".py",
   "mimetype": "text/x-python",
   "name": "python",
   "nbconvert_exporter": "python",
   "pygments_lexer": "ipython3",
   "version": "3.7.6"
  }
 },
 "nbformat": 4,
 "nbformat_minor": 4
}

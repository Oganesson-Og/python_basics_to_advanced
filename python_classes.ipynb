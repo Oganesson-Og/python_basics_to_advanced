{
 "cells": [
  {
   "cell_type": "code",
   "execution_count": null,
   "metadata": {},
   "outputs": [],
   "source": [
    " class Footballer:\n",
    "        \"\"\"\n",
    "        This is a docstring, it pops up should anyone call for help using this class.\n",
    "        It needs to come right after the first line.\n",
    "        \n",
    "        \"\"\"\n",
    "        def __init__(self, full_name, position, strong_foot, height):\n",
    "            self.name = full_name\n",
    "            self.position = position\n",
    "            self.height = height\n",
    "            self.fav_foot = strong_foot\n",
    "            self.name_pieces = name.split('')\n",
    "            first_name = name_pieces[0]\n",
    "            second_name = name_pieces[-1]"
   ]
  },
  {
   "cell_type": "markdown",
   "metadata": {},
   "source": []
  },
  {
   "cell_type": "code",
   "execution_count": null,
   "metadata": {},
   "outputs": [],
   "source": []
  }
 ],
 "metadata": {
  "kernelspec": {
   "display_name": "Python 3",
   "language": "python",
   "name": "python3"
  },
  "language_info": {
   "codemirror_mode": {
    "name": "ipython",
    "version": 3
   },
   "file_extension": ".py",
   "mimetype": "text/x-python",
   "name": "python",
   "nbconvert_exporter": "python",
   "pygments_lexer": "ipython3",
   "version": "3.7.6"
  }
 },
 "nbformat": 4,
 "nbformat_minor": 4
}

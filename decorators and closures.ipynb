{
 "cells": [
  {
   "cell_type": "code",
   "execution_count": null,
   "metadata": {},
   "outputs": [],
   "source": [
    "'''\n",
    "Title     : Decorators 2 - Name Directory\n",
    "Subdomain : Closures and Decorators\n",
    "Domain    : Python\n",
    "Author    : Ahmedur Rahman Shovon\n",
    "Created   : 15 July 2016\n",
    "Problem   : https://www.hackerrank.com/challenges/decorators-2-name-directory/problem\n",
    "'''\n",
    "# Enter your code here. Read input from STDIN. Print output to STDOUT\n",
    "ar=[]\n",
    "n=int(raw_input())\n",
    "for i in range(0,n):\n",
    "    str_ar=raw_input().strip().split()\n",
    "    user_name=str_ar[0]+\" \"+str_ar[1]\n",
    "    user_age=int(str_ar[2])\n",
    "    user_sex=str_ar[3]\n",
    "    user_new_name=\"\"\n",
    "    if(user_sex==\"M\"):\n",
    "        user_new_name=\"Mr. \"+user_name\n",
    "    else:\n",
    "        user_new_name=\"Ms. \"+user_name\n",
    "    ar.append([user_new_name,user_age])\n",
    "\n",
    "sorted = sorted(ar, key=lambda tup: tup[1])\n",
    "for i in range(0,n):\n",
    "    print sorted[i][0]\n"
   ]
  }
 ],
 "metadata": {
  "kernelspec": {
   "display_name": "Python 3",
   "language": "python",
   "name": "python3"
  },
  "language_info": {
   "codemirror_mode": {
    "name": "ipython",
    "version": 3
   },
   "file_extension": ".py",
   "mimetype": "text/x-python",
   "name": "python",
   "nbconvert_exporter": "python",
   "pygments_lexer": "ipython3",
   "version": "3.7.6"
  }
 },
 "nbformat": 4,
 "nbformat_minor": 4
}

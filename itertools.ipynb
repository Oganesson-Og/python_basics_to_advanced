{
 "cells": [
  {
   "cell_type": "markdown",
   "metadata": {},
   "source": [
    "# To work out catesian products, use the products method from itertools"
   ]
  },
  {
   "cell_type": "code",
   "execution_count": 4,
   "metadata": {},
   "outputs": [
    {
     "name": "stdout",
     "output_type": "stream",
     "text": [
      "[(2, 7), (2, 11), (2, 13), (2, 15), (3, 7), (3, 11), (3, 13), (3, 15), (5, 7), (5, 11), (5, 13), (5, 15)] \n",
      " \n",
      "\n",
      "The repeat function results: [(2, 7, 2, 7), (2, 7, 2, 11), (2, 7, 2, 13), (2, 7, 2, 15), (2, 7, 3, 7), (2, 7, 3, 11), (2, 7, 3, 13), (2, 7, 3, 15), (2, 7, 5, 7), (2, 7, 5, 11), (2, 7, 5, 13), (2, 7, 5, 15), (2, 11, 2, 7), (2, 11, 2, 11), (2, 11, 2, 13), (2, 11, 2, 15), (2, 11, 3, 7), (2, 11, 3, 11), (2, 11, 3, 13), (2, 11, 3, 15), (2, 11, 5, 7), (2, 11, 5, 11), (2, 11, 5, 13), (2, 11, 5, 15), (2, 13, 2, 7), (2, 13, 2, 11), (2, 13, 2, 13), (2, 13, 2, 15), (2, 13, 3, 7), (2, 13, 3, 11), (2, 13, 3, 13), (2, 13, 3, 15), (2, 13, 5, 7), (2, 13, 5, 11), (2, 13, 5, 13), (2, 13, 5, 15), (2, 15, 2, 7), (2, 15, 2, 11), (2, 15, 2, 13), (2, 15, 2, 15), (2, 15, 3, 7), (2, 15, 3, 11), (2, 15, 3, 13), (2, 15, 3, 15), (2, 15, 5, 7), (2, 15, 5, 11), (2, 15, 5, 13), (2, 15, 5, 15), (3, 7, 2, 7), (3, 7, 2, 11), (3, 7, 2, 13), (3, 7, 2, 15), (3, 7, 3, 7), (3, 7, 3, 11), (3, 7, 3, 13), (3, 7, 3, 15), (3, 7, 5, 7), (3, 7, 5, 11), (3, 7, 5, 13), (3, 7, 5, 15), (3, 11, 2, 7), (3, 11, 2, 11), (3, 11, 2, 13), (3, 11, 2, 15), (3, 11, 3, 7), (3, 11, 3, 11), (3, 11, 3, 13), (3, 11, 3, 15), (3, 11, 5, 7), (3, 11, 5, 11), (3, 11, 5, 13), (3, 11, 5, 15), (3, 13, 2, 7), (3, 13, 2, 11), (3, 13, 2, 13), (3, 13, 2, 15), (3, 13, 3, 7), (3, 13, 3, 11), (3, 13, 3, 13), (3, 13, 3, 15), (3, 13, 5, 7), (3, 13, 5, 11), (3, 13, 5, 13), (3, 13, 5, 15), (3, 15, 2, 7), (3, 15, 2, 11), (3, 15, 2, 13), (3, 15, 2, 15), (3, 15, 3, 7), (3, 15, 3, 11), (3, 15, 3, 13), (3, 15, 3, 15), (3, 15, 5, 7), (3, 15, 5, 11), (3, 15, 5, 13), (3, 15, 5, 15), (5, 7, 2, 7), (5, 7, 2, 11), (5, 7, 2, 13), (5, 7, 2, 15), (5, 7, 3, 7), (5, 7, 3, 11), (5, 7, 3, 13), (5, 7, 3, 15), (5, 7, 5, 7), (5, 7, 5, 11), (5, 7, 5, 13), (5, 7, 5, 15), (5, 11, 2, 7), (5, 11, 2, 11), (5, 11, 2, 13), (5, 11, 2, 15), (5, 11, 3, 7), (5, 11, 3, 11), (5, 11, 3, 13), (5, 11, 3, 15), (5, 11, 5, 7), (5, 11, 5, 11), (5, 11, 5, 13), (5, 11, 5, 15), (5, 13, 2, 7), (5, 13, 2, 11), (5, 13, 2, 13), (5, 13, 2, 15), (5, 13, 3, 7), (5, 13, 3, 11), (5, 13, 3, 13), (5, 13, 3, 15), (5, 13, 5, 7), (5, 13, 5, 11), (5, 13, 5, 13), (5, 13, 5, 15), (5, 15, 2, 7), (5, 15, 2, 11), (5, 15, 2, 13), (5, 15, 2, 15), (5, 15, 3, 7), (5, 15, 3, 11), (5, 15, 3, 13), (5, 15, 3, 15), (5, 15, 5, 7), (5, 15, 5, 11), (5, 15, 5, 13), (5, 15, 5, 15)]\n"
     ]
    }
   ],
   "source": [
    "from itertools import product\n",
    "\n",
    "first = [2, 3, 5]\n",
    "second = [7, 11, 13, 15]\n",
    "prod_1 = product(first, second)\n",
    "print(list(prod_1),'\\n \\n')\n",
    "\n",
    "prod_2 = product(first, second, repeat=2)\n",
    "\n",
    "print(f'The repeat function results: {list(prod_2)}')"
   ]
  },
  {
   "cell_type": "markdown",
   "metadata": {},
   "source": [
    "# To produce all available permutations, use permutations"
   ]
  },
  {
   "cell_type": "code",
   "execution_count": 9,
   "metadata": {},
   "outputs": [
    {
     "name": "stdout",
     "output_type": "stream",
     "text": [
      "[(2, 3, 5, 7), (2, 3, 7, 5), (2, 5, 3, 7), (2, 5, 7, 3), (2, 7, 3, 5), (2, 7, 5, 3), (3, 2, 5, 7), (3, 2, 7, 5), (3, 5, 2, 7), (3, 5, 7, 2), (3, 7, 2, 5), (3, 7, 5, 2), (5, 2, 3, 7), (5, 2, 7, 3), (5, 3, 2, 7), (5, 3, 7, 2), (5, 7, 2, 3), (5, 7, 3, 2), (7, 2, 3, 5), (7, 2, 5, 3), (7, 3, 2, 5), (7, 3, 5, 2), (7, 5, 2, 3), (7, 5, 3, 2)]\n",
      "[('Rashford', 'Pogba', 'Halaand', 'Greenwood', 'Bruno'), ('Rashford', 'Pogba', 'Halaand', 'Bruno', 'Greenwood'), ('Rashford', 'Pogba', 'Greenwood', 'Halaand', 'Bruno'), ('Rashford', 'Pogba', 'Greenwood', 'Bruno', 'Halaand'), ('Rashford', 'Pogba', 'Bruno', 'Halaand', 'Greenwood'), ('Rashford', 'Pogba', 'Bruno', 'Greenwood', 'Halaand'), ('Rashford', 'Halaand', 'Pogba', 'Greenwood', 'Bruno'), ('Rashford', 'Halaand', 'Pogba', 'Bruno', 'Greenwood'), ('Rashford', 'Halaand', 'Greenwood', 'Pogba', 'Bruno'), ('Rashford', 'Halaand', 'Greenwood', 'Bruno', 'Pogba'), ('Rashford', 'Halaand', 'Bruno', 'Pogba', 'Greenwood'), ('Rashford', 'Halaand', 'Bruno', 'Greenwood', 'Pogba'), ('Rashford', 'Greenwood', 'Pogba', 'Halaand', 'Bruno'), ('Rashford', 'Greenwood', 'Pogba', 'Bruno', 'Halaand'), ('Rashford', 'Greenwood', 'Halaand', 'Pogba', 'Bruno'), ('Rashford', 'Greenwood', 'Halaand', 'Bruno', 'Pogba'), ('Rashford', 'Greenwood', 'Bruno', 'Pogba', 'Halaand'), ('Rashford', 'Greenwood', 'Bruno', 'Halaand', 'Pogba'), ('Rashford', 'Bruno', 'Pogba', 'Halaand', 'Greenwood'), ('Rashford', 'Bruno', 'Pogba', 'Greenwood', 'Halaand'), ('Rashford', 'Bruno', 'Halaand', 'Pogba', 'Greenwood'), ('Rashford', 'Bruno', 'Halaand', 'Greenwood', 'Pogba'), ('Rashford', 'Bruno', 'Greenwood', 'Pogba', 'Halaand'), ('Rashford', 'Bruno', 'Greenwood', 'Halaand', 'Pogba'), ('Pogba', 'Rashford', 'Halaand', 'Greenwood', 'Bruno'), ('Pogba', 'Rashford', 'Halaand', 'Bruno', 'Greenwood'), ('Pogba', 'Rashford', 'Greenwood', 'Halaand', 'Bruno'), ('Pogba', 'Rashford', 'Greenwood', 'Bruno', 'Halaand'), ('Pogba', 'Rashford', 'Bruno', 'Halaand', 'Greenwood'), ('Pogba', 'Rashford', 'Bruno', 'Greenwood', 'Halaand'), ('Pogba', 'Halaand', 'Rashford', 'Greenwood', 'Bruno'), ('Pogba', 'Halaand', 'Rashford', 'Bruno', 'Greenwood'), ('Pogba', 'Halaand', 'Greenwood', 'Rashford', 'Bruno'), ('Pogba', 'Halaand', 'Greenwood', 'Bruno', 'Rashford'), ('Pogba', 'Halaand', 'Bruno', 'Rashford', 'Greenwood'), ('Pogba', 'Halaand', 'Bruno', 'Greenwood', 'Rashford'), ('Pogba', 'Greenwood', 'Rashford', 'Halaand', 'Bruno'), ('Pogba', 'Greenwood', 'Rashford', 'Bruno', 'Halaand'), ('Pogba', 'Greenwood', 'Halaand', 'Rashford', 'Bruno'), ('Pogba', 'Greenwood', 'Halaand', 'Bruno', 'Rashford'), ('Pogba', 'Greenwood', 'Bruno', 'Rashford', 'Halaand'), ('Pogba', 'Greenwood', 'Bruno', 'Halaand', 'Rashford'), ('Pogba', 'Bruno', 'Rashford', 'Halaand', 'Greenwood'), ('Pogba', 'Bruno', 'Rashford', 'Greenwood', 'Halaand'), ('Pogba', 'Bruno', 'Halaand', 'Rashford', 'Greenwood'), ('Pogba', 'Bruno', 'Halaand', 'Greenwood', 'Rashford'), ('Pogba', 'Bruno', 'Greenwood', 'Rashford', 'Halaand'), ('Pogba', 'Bruno', 'Greenwood', 'Halaand', 'Rashford'), ('Halaand', 'Rashford', 'Pogba', 'Greenwood', 'Bruno'), ('Halaand', 'Rashford', 'Pogba', 'Bruno', 'Greenwood'), ('Halaand', 'Rashford', 'Greenwood', 'Pogba', 'Bruno'), ('Halaand', 'Rashford', 'Greenwood', 'Bruno', 'Pogba'), ('Halaand', 'Rashford', 'Bruno', 'Pogba', 'Greenwood'), ('Halaand', 'Rashford', 'Bruno', 'Greenwood', 'Pogba'), ('Halaand', 'Pogba', 'Rashford', 'Greenwood', 'Bruno'), ('Halaand', 'Pogba', 'Rashford', 'Bruno', 'Greenwood'), ('Halaand', 'Pogba', 'Greenwood', 'Rashford', 'Bruno'), ('Halaand', 'Pogba', 'Greenwood', 'Bruno', 'Rashford'), ('Halaand', 'Pogba', 'Bruno', 'Rashford', 'Greenwood'), ('Halaand', 'Pogba', 'Bruno', 'Greenwood', 'Rashford'), ('Halaand', 'Greenwood', 'Rashford', 'Pogba', 'Bruno'), ('Halaand', 'Greenwood', 'Rashford', 'Bruno', 'Pogba'), ('Halaand', 'Greenwood', 'Pogba', 'Rashford', 'Bruno'), ('Halaand', 'Greenwood', 'Pogba', 'Bruno', 'Rashford'), ('Halaand', 'Greenwood', 'Bruno', 'Rashford', 'Pogba'), ('Halaand', 'Greenwood', 'Bruno', 'Pogba', 'Rashford'), ('Halaand', 'Bruno', 'Rashford', 'Pogba', 'Greenwood'), ('Halaand', 'Bruno', 'Rashford', 'Greenwood', 'Pogba'), ('Halaand', 'Bruno', 'Pogba', 'Rashford', 'Greenwood'), ('Halaand', 'Bruno', 'Pogba', 'Greenwood', 'Rashford'), ('Halaand', 'Bruno', 'Greenwood', 'Rashford', 'Pogba'), ('Halaand', 'Bruno', 'Greenwood', 'Pogba', 'Rashford'), ('Greenwood', 'Rashford', 'Pogba', 'Halaand', 'Bruno'), ('Greenwood', 'Rashford', 'Pogba', 'Bruno', 'Halaand'), ('Greenwood', 'Rashford', 'Halaand', 'Pogba', 'Bruno'), ('Greenwood', 'Rashford', 'Halaand', 'Bruno', 'Pogba'), ('Greenwood', 'Rashford', 'Bruno', 'Pogba', 'Halaand'), ('Greenwood', 'Rashford', 'Bruno', 'Halaand', 'Pogba'), ('Greenwood', 'Pogba', 'Rashford', 'Halaand', 'Bruno'), ('Greenwood', 'Pogba', 'Rashford', 'Bruno', 'Halaand'), ('Greenwood', 'Pogba', 'Halaand', 'Rashford', 'Bruno'), ('Greenwood', 'Pogba', 'Halaand', 'Bruno', 'Rashford'), ('Greenwood', 'Pogba', 'Bruno', 'Rashford', 'Halaand'), ('Greenwood', 'Pogba', 'Bruno', 'Halaand', 'Rashford'), ('Greenwood', 'Halaand', 'Rashford', 'Pogba', 'Bruno'), ('Greenwood', 'Halaand', 'Rashford', 'Bruno', 'Pogba'), ('Greenwood', 'Halaand', 'Pogba', 'Rashford', 'Bruno'), ('Greenwood', 'Halaand', 'Pogba', 'Bruno', 'Rashford'), ('Greenwood', 'Halaand', 'Bruno', 'Rashford', 'Pogba'), ('Greenwood', 'Halaand', 'Bruno', 'Pogba', 'Rashford'), ('Greenwood', 'Bruno', 'Rashford', 'Pogba', 'Halaand'), ('Greenwood', 'Bruno', 'Rashford', 'Halaand', 'Pogba'), ('Greenwood', 'Bruno', 'Pogba', 'Rashford', 'Halaand'), ('Greenwood', 'Bruno', 'Pogba', 'Halaand', 'Rashford'), ('Greenwood', 'Bruno', 'Halaand', 'Rashford', 'Pogba'), ('Greenwood', 'Bruno', 'Halaand', 'Pogba', 'Rashford'), ('Bruno', 'Rashford', 'Pogba', 'Halaand', 'Greenwood'), ('Bruno', 'Rashford', 'Pogba', 'Greenwood', 'Halaand'), ('Bruno', 'Rashford', 'Halaand', 'Pogba', 'Greenwood'), ('Bruno', 'Rashford', 'Halaand', 'Greenwood', 'Pogba'), ('Bruno', 'Rashford', 'Greenwood', 'Pogba', 'Halaand'), ('Bruno', 'Rashford', 'Greenwood', 'Halaand', 'Pogba'), ('Bruno', 'Pogba', 'Rashford', 'Halaand', 'Greenwood'), ('Bruno', 'Pogba', 'Rashford', 'Greenwood', 'Halaand'), ('Bruno', 'Pogba', 'Halaand', 'Rashford', 'Greenwood'), ('Bruno', 'Pogba', 'Halaand', 'Greenwood', 'Rashford'), ('Bruno', 'Pogba', 'Greenwood', 'Rashford', 'Halaand'), ('Bruno', 'Pogba', 'Greenwood', 'Halaand', 'Rashford'), ('Bruno', 'Halaand', 'Rashford', 'Pogba', 'Greenwood'), ('Bruno', 'Halaand', 'Rashford', 'Greenwood', 'Pogba'), ('Bruno', 'Halaand', 'Pogba', 'Rashford', 'Greenwood'), ('Bruno', 'Halaand', 'Pogba', 'Greenwood', 'Rashford'), ('Bruno', 'Halaand', 'Greenwood', 'Rashford', 'Pogba'), ('Bruno', 'Halaand', 'Greenwood', 'Pogba', 'Rashford'), ('Bruno', 'Greenwood', 'Rashford', 'Pogba', 'Halaand'), ('Bruno', 'Greenwood', 'Rashford', 'Halaand', 'Pogba'), ('Bruno', 'Greenwood', 'Pogba', 'Rashford', 'Halaand'), ('Bruno', 'Greenwood', 'Pogba', 'Halaand', 'Rashford'), ('Bruno', 'Greenwood', 'Halaand', 'Rashford', 'Pogba'), ('Bruno', 'Greenwood', 'Halaand', 'Pogba', 'Rashford')]\n"
     ]
    }
   ],
   "source": [
    "from itertools import permutations\n",
    "\n",
    "a = [2, 3, 5, 7]\n",
    "print(list(permutations(a)))\n",
    "\n",
    "b = ['Rashford', 'Pogba', 'Halaand', 'Greenwood', 'Bruno']\n",
    "print(list(permutations(b))) "
   ]
  },
  {
   "cell_type": "markdown",
   "metadata": {},
   "source": [
    "# Combinations and combinations with replacement"
   ]
  },
  {
   "cell_type": "code",
   "execution_count": 14,
   "metadata": {},
   "outputs": [
    {
     "name": "stdout",
     "output_type": "stream",
     "text": [
      "[(2, 3, 5), (2, 3, 7), (2, 5, 7), (3, 5, 7)]\n",
      "[(2, 2, 2), (2, 2, 3), (2, 2, 5), (2, 2, 7), (2, 3, 3), (2, 3, 5), (2, 3, 7), (2, 5, 5), (2, 5, 7), (2, 7, 7), (3, 3, 3), (3, 3, 5), (3, 3, 7), (3, 5, 5), (3, 5, 7), (3, 7, 7), (5, 5, 5), (5, 5, 7), (5, 7, 7), (7, 7, 7)]\n",
      "[('Rashford', 'Pogba', 'Halaand'), ('Rashford', 'Pogba', 'Greenwood'), ('Rashford', 'Pogba', 'Bruno'), ('Rashford', 'Halaand', 'Greenwood'), ('Rashford', 'Halaand', 'Bruno'), ('Rashford', 'Greenwood', 'Bruno'), ('Pogba', 'Halaand', 'Greenwood'), ('Pogba', 'Halaand', 'Bruno'), ('Pogba', 'Greenwood', 'Bruno'), ('Halaand', 'Greenwood', 'Bruno')]\n"
     ]
    }
   ],
   "source": [
    "from itertools import combinations, combinations_with_replacement\n",
    "# combinations with replacements will replace each value plucked out\n",
    "comb_1 = combinations(a, 3)\n",
    "comb_3 = combinations_with_replacement(a, 3)\n",
    "comb_2 = combinations(b, 3)\n",
    "print(list(comb_1))\n",
    "print(list(comb_3))\n",
    "print(list(comb_2))"
   ]
  },
  {
   "cell_type": "markdown",
   "metadata": {},
   "source": [
    "# Next the accumulate method"
   ]
  },
  {
   "cell_type": "code",
   "execution_count": 20,
   "metadata": {},
   "outputs": [
    {
     "name": "stdout",
     "output_type": "stream",
     "text": [
      "[2, 5, 10, 17]\n",
      "The multiplication operation: [2, 6, 30, 210]\n",
      "The maximum function: [7, 7, 7, 7]\n"
     ]
    }
   ],
   "source": [
    "from itertools import accumulate\n",
    "import operator\n",
    "# You can use the operator command to conduct multiplication\n",
    "\n",
    "\n",
    "acc = accumulate(a)\n",
    "print(list(acc))\n",
    "acc_2 = accumulate(a, operator.mul)\n",
    "print(f'The multiplication operation: {list(acc_2)}')\n",
    "\n",
    "acc_3 =accumulate(a, func=max)\n",
    "a.reverse()\n",
    "print(f'The maximum function: {list(acc_3)}')"
   ]
  },
  {
   "cell_type": "markdown",
   "metadata": {},
   "source": [
    "# The group by method returns true and false groups based on the condition set with a list of each group still to be extracted"
   ]
  },
  {
   "cell_type": "code",
   "execution_count": 24,
   "metadata": {},
   "outputs": [
    {
     "name": "stdout",
     "output_type": "stream",
     "text": [
      "The key is False and the value is [7, 5]\n",
      "The key is True and the value is [3, 2]\n"
     ]
    }
   ],
   "source": [
    "from itertools import groupby\n",
    "\n",
    "def less_than_five(x):\n",
    "    return x < 5\n",
    "\n",
    "grouped = groupby(a, key=less_than_five)\n",
    "\n",
    "for key, value in grouped:\n",
    "    print(f'The key is {key} and the value is {list(value)}')"
   ]
  },
  {
   "cell_type": "markdown",
   "metadata": {},
   "source": [
    "# We can also order using the key inside each dictionary"
   ]
  },
  {
   "cell_type": "code",
   "execution_count": 26,
   "metadata": {},
   "outputs": [
    {
     "name": "stdout",
     "output_type": "stream",
     "text": [
      "The key is 31 and the value is [{'name': 'Keith', 'age': 31}]\n",
      "The key is 28 and the value is [{'name': 'Pogba', 'age': 28}, {'name': 'DeBruyne', 'age': 28}, {'name': 'Henderson', 'age': 28}]\n",
      "The key is 32 and the value is [{'name': 'Giroud', 'age': 32}]\n"
     ]
    }
   ],
   "source": [
    "player_profile = [{'name': 'Keith', 'age': 31}, {'name': 'Pogba', 'age': 28}, {'name': 'DeBruyne', 'age': 28}, {'name': 'Henderson', 'age': 28}, {'name': 'Giroud', 'age': 32}]\n",
    "\n",
    "second_group = groupby(player_profile, key=lambda x: x['age'])\n",
    "\n",
    "for key, value in second_group:\n",
    "    print(f'The key is {key} and the value is {list(value)}')"
   ]
  },
  {
   "cell_type": "code",
   "execution_count": 30,
   "metadata": {},
   "outputs": [
    {
     "name": "stdout",
     "output_type": "stream",
     "text": [
      "5\n",
      "7\n",
      "9\n",
      "11\n",
      "13\n",
      "15\n",
      "17\n",
      "19\n",
      "21\n",
      "23\n",
      "25\n",
      "27\n",
      "29\n",
      "31\n"
     ]
    }
   ],
   "source": [
    "from itertools import count, cycle, repeat\n",
    "\n",
    "for i in count(2):\n",
    "    print(2*i+1)\n",
    "    if i == 15:\n",
    "        break"
   ]
  },
  {
   "cell_type": "code",
   "execution_count": null,
   "metadata": {},
   "outputs": [],
   "source": []
  }
 ],
 "metadata": {
  "kernelspec": {
   "display_name": "Python 3",
   "language": "python",
   "name": "python3"
  },
  "language_info": {
   "codemirror_mode": {
    "name": "ipython",
    "version": 3
   },
   "file_extension": ".py",
   "mimetype": "text/x-python",
   "name": "python",
   "nbconvert_exporter": "python",
   "pygments_lexer": "ipython3",
   "version": "3.7.6"
  }
 },
 "nbformat": 4,
 "nbformat_minor": 4
}

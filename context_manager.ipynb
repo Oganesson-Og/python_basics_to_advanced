{
 "cells": [
  {
   "cell_type": "code",
   "execution_count": 1,
   "metadata": {},
   "outputs": [],
   "source": [
    "# Used to precisely open and close resources as and when needed\n",
    "\n",
    "with open('notes.txt', 'w') as file:\n",
    "    file.write('Olive Oil R130 Coconut Oil R150...')\n",
    "\n",
    "    # The stuff above is the recommended way to open a file but it does the same function as they lines below\n",
    "file = open('notes.txt', 'w')\n",
    "try:\n",
    "    file.write('Dishwasher R50')\n",
    "finally:\n",
    "    file.close()\n",
    "    \n"
   ]
  },
  {
   "cell_type": "markdown",
   "metadata": {},
   "source": [
    "#### TYPICAL CONTEXT MANAGER EXAMPLES:\n",
    "\n",
    "1.) with open statements\n",
    "\n",
    "\n",
    "2.) To open and close database connections\n",
    "\n",
    "\n",
    "3.) Or the lock when working with multi threading and multi locking"
   ]
  },
  {
   "cell_type": "code",
   "execution_count": 6,
   "metadata": {},
   "outputs": [],
   "source": [
    "# Lock without context managers\n",
    "from threading import Lock\n",
    "\n",
    "lock = Lock()\n",
    "lock.acquire()\n",
    "#... do some threading stuff here then always remember to release. \n",
    "# If you forget you may run into a deadlock and your programme won't continue\n",
    "lock.release()\n",
    "\n",
    "# A better and simpler way below. This automatically acquires the lock and releases it when youre done.\n",
    "with lock:\n",
    "    #...\n",
    "    pass\n",
    "    "
   ]
  },
  {
   "cell_type": "markdown",
   "metadata": {},
   "source": [
    "#### Building a custom context manager"
   ]
  },
  {
   "cell_type": "code",
   "execution_count": 13,
   "metadata": {},
   "outputs": [
    {
     "name": "stdout",
     "output_type": "stream",
     "text": [
      "__init__ called\n",
      "Enter called\n",
      "do some stuff...\n",
      "Excerption variables None and None\n",
      "exit called\n"
     ]
    }
   ],
   "source": [
    "class ManagedFile:\n",
    "    def __init__(self, file_name):\n",
    "        self.file_name = file_name\n",
    "        print('__init__ called')\n",
    "    def __enter__(self):\n",
    "        # This will be executed as soon as we enter the with method\n",
    "        print('Enter called')\n",
    "        self.file = open(self.file_name, 'w')\n",
    "        return self.file\n",
    "        \n",
    "    def __exit__(self, exc_type, exc_value, exc_traceback):\n",
    "        # To close we first check if self.file is not null\n",
    "        if self.file:\n",
    "            self.file.close()\n",
    "        print(f'Excerption variables {exc_value} and {exc_traceback}')\n",
    "        print('exit called')\n",
    "        \n",
    "        \n",
    "with ManagedFile('notes2.txt') as file:\n",
    "    print('do some stuff...')\n",
    "    file.write('some todoo...')\n",
    "        "
   ]
  },
  {
   "cell_type": "code",
   "execution_count": 15,
   "metadata": {},
   "outputs": [
    {
     "name": "stdout",
     "output_type": "stream",
     "text": [
      "__init__ called\n",
      "Enter called\n",
      "do some stuff...\n",
      "Excerption has been handled\n",
      "exit called\n",
      "continuing\n"
     ]
    }
   ],
   "source": [
    "# If we make a mistake then the excerption parameters will not have None values\n",
    "class ManagedFile:\n",
    "    def __init__(self, file_name):\n",
    "        self.file_name = file_name\n",
    "        print('__init__ called')\n",
    "    def __enter__(self):\n",
    "        # This will be executed as soon as we enter the with method\n",
    "        print('Enter called')\n",
    "        self.file = open(self.file_name, 'w')\n",
    "        return self.file\n",
    "        \n",
    "    def __exit__(self, exc_type, exc_value, exc_traceback):\n",
    "        # To close we first check if self.file is not null\n",
    "        if self.file:\n",
    "            self.file.close()\n",
    "        if exc_type is not None:\n",
    "            print('Excerption has been handled')\n",
    "        print('exit called')\n",
    "        \n",
    "        return True\n",
    "        \n",
    "        \n",
    "with ManagedFile('notes2.txt') as file:\n",
    "    print('do some stuff...')\n",
    "    file.write('some todoo...')\n",
    "    # trying something that does not work\n",
    "    file.oganesson()\n",
    "print('continuing')"
   ]
  },
  {
   "cell_type": "code",
   "execution_count": 16,
   "metadata": {},
   "outputs": [],
   "source": [
    "#### We can also implement a context manager as a function with a decorator function\n",
    "from contextlib import contextmanager\n",
    "\n",
    "@contextmanager\n",
    "def open_managed_file(filename):\n",
    "    f = open(filename, 'w')\n",
    "    try:\n",
    "        yield f\n",
    "    finally:\n",
    "        f.close()\n",
    "        \n",
    "        \n",
    "with open_managed_file('notes.txt') as f:\n",
    "    f.write('Something to do....')"
   ]
  },
  {
   "cell_type": "code",
   "execution_count": null,
   "metadata": {},
   "outputs": [],
   "source": []
  }
 ],
 "metadata": {
  "kernelspec": {
   "display_name": "Python 3",
   "language": "python",
   "name": "python3"
  },
  "language_info": {
   "codemirror_mode": {
    "name": "ipython",
    "version": 3
   },
   "file_extension": ".py",
   "mimetype": "text/x-python",
   "name": "python",
   "nbconvert_exporter": "python",
   "pygments_lexer": "ipython3",
   "version": "3.7.6"
  }
 },
 "nbformat": 4,
 "nbformat_minor": 4
}

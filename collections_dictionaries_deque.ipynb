{
 "cells": [
  {
   "cell_type": "code",
   "execution_count": 7,
   "metadata": {},
   "outputs": [
    {
     "name": "stdout",
     "output_type": "stream",
     "text": [
      "Counter({'e': 5, 'a': 3, 'b': 3, 'c': 2, 'f': 1, 'h': 1, 'x': 1})\n",
      "To see the items dict_items([('a', 3), ('b', 3), ('c', 2), ('e', 5), ('f', 1), ('h', 1), ('x', 1)])\n",
      "To see the keys dict_keys(['a', 'b', 'c', 'e', 'f', 'h', 'x'])\n",
      "To see the most common [('e', 5)]\n",
      "To see the most common element as a tuple: ('e', 5)\n",
      "To see the most common second:  e\n",
      "To see the values dict_values([3, 3, 2, 5, 1, 1, 1])\n",
      "To see the most common ['a', 'a', 'a', 'b', 'b', 'b', 'c', 'c', 'e', 'e', 'e', 'e', 'e', 'f', 'h', 'x']\n"
     ]
    }
   ],
   "source": [
    "from collections import Counter\n",
    "\n",
    "a = 'aaabbbcceeeefhxe'\n",
    "my_counter = Counter(a)\n",
    "print(my_counter)\n",
    "print(f'To see the items {my_counter.items()}')\n",
    "print(f'To see the keys {my_counter.keys()}')\n",
    "print(f'To see the most common {my_counter.most_common(1)}')\n",
    "print(f'To see the most common element as a tuple: {my_counter.most_common(1)[0]}')\n",
    "print(f'To see the most common second:  {my_counter.most_common(1)[0][0]}')\n",
    "print(f'To see the values {my_counter.values()}')\n",
    "print(f'To see the most common {list(my_counter.elements())}')"
   ]
  },
  {
   "cell_type": "markdown",
   "metadata": {},
   "source": [
    "# Working with named tuple"
   ]
  },
  {
   "cell_type": "code",
   "execution_count": 9,
   "metadata": {},
   "outputs": [
    {
     "name": "stdout",
     "output_type": "stream",
     "text": [
      "Point(x=1, y=-4)\n",
      "1 ::  -4\n"
     ]
    }
   ],
   "source": [
    "from collections import namedtuple\n",
    "\n",
    "#set the variable using the Pascal naming method to initialise the named tuple object\n",
    "Point = namedtuple('Point', 'x,y')\n",
    "\n",
    "pt = Point(1, -4)\n",
    "\n",
    "print(pt)\n",
    "print(pt.x, ':: ', pt.y)"
   ]
  },
  {
   "cell_type": "markdown",
   "metadata": {},
   "source": [
    "# Ordered dictionary"
   ]
  },
  {
   "cell_type": "code",
   "execution_count": 14,
   "metadata": {},
   "outputs": [
    {
     "name": "stdout",
     "output_type": "stream",
     "text": [
      "{'a': 1, 'b': 2, 'c': 3, 'd': 5, 'e': 7}\n"
     ]
    }
   ],
   "source": [
    "#Preserves the order of the elements entered\n",
    "from collections import OrderedDict\n",
    "\n",
    "ordered_dict = OrderedDict()\n",
    "\n",
    "ordered_dict = {'a': 1, 'b': 2, 'c': 3, 'd': 5}\n",
    "ordered_dict['e'] = 7\n",
    "\n",
    "print(ordered_dict)"
   ]
  },
  {
   "cell_type": "markdown",
   "metadata": {},
   "source": [
    "# Default Dict"
   ]
  },
  {
   "cell_type": "code",
   "execution_count": 21,
   "metadata": {},
   "outputs": [
    {
     "name": "stdout",
     "output_type": "stream",
     "text": [
      "0.0\n"
     ]
    }
   ],
   "source": [
    "from collections import defaultdict\n",
    "#Just like a normal dictionary but will assign a default value if a non existing key is entered\n",
    "\n",
    "\n",
    "d = defaultdict(float)\n",
    "d['a'] = 2\n",
    "d['b'] = 3\n",
    "print(d['c'])"
   ]
  },
  {
   "cell_type": "markdown",
   "metadata": {},
   "source": [
    "# deque is a double ended queue"
   ]
  },
  {
   "cell_type": "code",
   "execution_count": 25,
   "metadata": {},
   "outputs": [
    {
     "name": "stdout",
     "output_type": "stream",
     "text": [
      "deque([-19, -17, -13, -11, 2, 2, 5, 7, 11, 13, 17, 19])\n",
      "deque([-17, -13, -11, 2, 2, 5, 7, 11, 13, 17])\n",
      "deque([17, -17, -13, -11, 2, 2, 5, 7, 11, 13])\n",
      "deque([-13, -11, 2, 2, 5, 7, 11, 13, 17, -17])\n"
     ]
    }
   ],
   "source": [
    "from collections import deque\n",
    "#can be used to efficiently add and remove elements from both ends\n",
    "\n",
    "deque_dict = deque()\n",
    "deque_dict.append(2)\n",
    "\n",
    "deque_dict.append(5)\n",
    "deque_dict.append(7)\n",
    "deque_dict.appendleft(2)\n",
    "deque_dict.extend([11, 13, 17, 19])\n",
    "\n",
    "deque_dict.extendleft([-11, -13, -17, -19])\n",
    "\n",
    "print(deque_dict)\n",
    "deque_dict.pop()\n",
    "deque_dict.popleft()\n",
    "print(deque_dict)\n",
    "deque_dict.rotate(1)\n",
    "\n",
    "print(deque_dict)\n",
    "\n",
    "deque_dict.rotate(-2)\n",
    "print(deque_dict)\n",
    "\n"
   ]
  },
  {
   "cell_type": "code",
   "execution_count": null,
   "metadata": {},
   "outputs": [],
   "source": []
  }
 ],
 "metadata": {
  "kernelspec": {
   "display_name": "Python 3",
   "language": "python",
   "name": "python3"
  },
  "language_info": {
   "codemirror_mode": {
    "name": "ipython",
    "version": 3
   },
   "file_extension": ".py",
   "mimetype": "text/x-python",
   "name": "python",
   "nbconvert_exporter": "python",
   "pygments_lexer": "ipython3",
   "version": "3.7.6"
  }
 },
 "nbformat": 4,
 "nbformat_minor": 4
}

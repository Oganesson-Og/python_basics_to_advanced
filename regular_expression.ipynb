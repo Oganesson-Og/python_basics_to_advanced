{
 "cells": [
  {
   "cell_type": "code",
   "execution_count": 32,
   "metadata": {},
   "outputs": [
    {
     "name": "stdout",
     "output_type": "stream",
     "text": [
      "\\t tab\n"
     ]
    }
   ],
   "source": [
    "text_to_speech = '''\n",
    "abcdefghijklmnopqrstuvwxyz\n",
    "ABCDEFGHIJKLMNOPQRSTUVWXYZ\n",
    "1234567890\n",
    "\n",
    "\n",
    "Metacharacters need to be escaped:\n",
    ".^$%(){}[]+*|\\\n",
    "\n",
    "Ha HaHa\n",
    "keithsk.com\n",
    "\n",
    "084-344-0510\n",
    "084.344.0510\n",
    "\n",
    "Mr. Scaffer\n",
    "Mr Smith\n",
    "Ms Davis\n",
    "Mrs. Robinson\n",
    "Mr. T\n",
    "\n",
    "corey-321-scaffer@my-work.net\n",
    "CoreySchaffer@gmail.com\n",
    "corey.schaffer@university.edu\n",
    "'''\n",
    "\n",
    "sentence = 'start a sentence then bring it to an end'\n",
    "print(r'\\t tab')"
   ]
  },
  {
   "cell_type": "markdown",
   "metadata": {},
   "source": [
    "Use re.compile to save your regular expression as a variable."
   ]
  },
  {
   "cell_type": "code",
   "execution_count": 33,
   "metadata": {},
   "outputs": [],
   "source": [
    "import re\n",
    "pattern = re.compile(r'[A-Za-z0-9-+.]+@[a-zA-Z0-9.-]+')"
   ]
  },
  {
   "cell_type": "code",
   "execution_count": 34,
   "metadata": {},
   "outputs": [
    {
     "name": "stdout",
     "output_type": "stream",
     "text": [
      "<re.Match object; span=(216, 245), match='corey-321-scaffer@my-work.net'>\n",
      "<re.Match object; span=(246, 269), match='CoreySchaffer@gmail.com'>\n",
      "<re.Match object; span=(270, 299), match='corey.schaffer@university.edu'>\n"
     ]
    }
   ],
   "source": [
    "matches = pattern.finditer(text_to_speech)\n",
    "\n",
    "for match in matches:\n",
    "    print(match)"
   ]
  },
  {
   "cell_type": "markdown",
   "metadata": {},
   "source": []
  }
 ],
 "metadata": {
  "kernelspec": {
   "display_name": "Python 3",
   "language": "python",
   "name": "python3"
  },
  "language_info": {
   "codemirror_mode": {
    "name": "ipython",
    "version": 3
   },
   "file_extension": ".py",
   "mimetype": "text/x-python",
   "name": "python",
   "nbconvert_exporter": "python",
   "pygments_lexer": "ipython3",
   "version": "3.7.6"
  }
 },
 "nbformat": 4,
 "nbformat_minor": 4
}

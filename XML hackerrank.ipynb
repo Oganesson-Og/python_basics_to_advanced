{
 "cells": [
  {
   "cell_type": "code",
   "execution_count": 1,
   "metadata": {},
   "outputs": [
    {
     "ename": "SyntaxError",
     "evalue": "Missing parentheses in call to 'print'. Did you mean print(cnt)? (<ipython-input-1-d2d5157fcaea>, line 17)",
     "output_type": "error",
     "traceback": [
      "\u001b[1;36m  File \u001b[1;32m\"<ipython-input-1-d2d5157fcaea>\"\u001b[1;36m, line \u001b[1;32m17\u001b[0m\n\u001b[1;33m    print cnt\u001b[0m\n\u001b[1;37m            ^\u001b[0m\n\u001b[1;31mSyntaxError\u001b[0m\u001b[1;31m:\u001b[0m Missing parentheses in call to 'print'. Did you mean print(cnt)?\n"
     ]
    }
   ],
   "source": [
    "'''\n",
    "Title     : XML 1 - Find the Score\n",
    "Subdomain : XML\n",
    "Domain    : Python\n",
    "Author    : Ahmedur Rahman Shovon\n",
    "Created   : 15 July 2016\n",
    "Problem   : https://www.hackerrank.com/challenges/xml-1-find-the-score/problem\n",
    "'''\n",
    "# Enter your code here. Read input from STDIN. Print output to STDOUT\n",
    "xml_str=\"\"\n",
    "n=int(raw_input())\n",
    "for i in range(0,n):\n",
    "    tmp_str=raw_input()\n",
    "    xml_str=xml_str+tmp_str\n",
    "    \n",
    "cnt=xml_str.count(\"='\")\n",
    "print cnt\n"
   ]
  },
  {
   "cell_type": "code",
   "execution_count": 2,
   "metadata": {},
   "outputs": [
    {
     "ename": "SyntaxError",
     "evalue": "Missing parentheses in call to 'print'. Did you mean print(cnt)? (<ipython-input-2-1ee68a4c1d4e>, line 23)",
     "output_type": "error",
     "traceback": [
      "\u001b[1;36m  File \u001b[1;32m\"<ipython-input-2-1ee68a4c1d4e>\"\u001b[1;36m, line \u001b[1;32m23\u001b[0m\n\u001b[1;33m    print cnt\u001b[0m\n\u001b[1;37m            ^\u001b[0m\n\u001b[1;31mSyntaxError\u001b[0m\u001b[1;31m:\u001b[0m Missing parentheses in call to 'print'. Did you mean print(cnt)?\n"
     ]
    }
   ],
   "source": [
    "'''\n",
    "Title     : XML2 - Find the Maximum Depth\n",
    "Subdomain : XML\n",
    "Domain    : Python\n",
    "Author    : Ahmedur Rahman Shovon\n",
    "Created   : 15 July 2016\n",
    "Problem   : https://www.hackerrank.com/challenges/xml2-find-the-maximum-depth/problem\n",
    "'''\n",
    "# Enter your code here. Read input from STDIN. Print output to STDOUT\n",
    "xml_str=\"\"\n",
    "n=int(raw_input())\n",
    "for i in range(0,n):\n",
    "    tmp_str=raw_input()\n",
    "    xml_str=xml_str+tmp_str\n",
    "    \n",
    "import xml.etree.ElementTree as etree\n",
    "tree = etree.ElementTree(etree.fromstring(xml_str))\n",
    "root=tree.getroot()\n",
    "ar=[]\n",
    "def cnt_node(node):\n",
    "    return max( [0] + [cnt_node(child)+1 for child in node])\n",
    "cnt=cnt_node(root)\n",
    "print cnt\n"
   ]
  },
  {
   "cell_type": "code",
   "execution_count": null,
   "metadata": {},
   "outputs": [],
   "source": []
  }
 ],
 "metadata": {
  "kernelspec": {
   "display_name": "Python 3",
   "language": "python",
   "name": "python3"
  },
  "language_info": {
   "codemirror_mode": {
    "name": "ipython",
    "version": 3
   },
   "file_extension": ".py",
   "mimetype": "text/x-python",
   "name": "python",
   "nbconvert_exporter": "python",
   "pygments_lexer": "ipython3",
   "version": "3.7.6"
  }
 },
 "nbformat": 4,
 "nbformat_minor": 4
}

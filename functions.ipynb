{
 "cells": [
  {
   "cell_type": "markdown",
   "metadata": {},
   "source": [
    "# Functions"
   ]
  },
  {
   "cell_type": "markdown",
   "metadata": {},
   "source": [
    "1.) Parameters are the variables that are defined or used inside parentheses when a function is defined. Arguments are the values passed when calling a function.\n",
    "\n",
    "\n",
    "2.) Default arguments can be passed on function definition. They must be on the end of the function.\n",
    "\n",
    "\n",
    "3.) Variable length arguments *args for positional and **kwargs for any number of key word arguments. The kwargs come in a dictionary form\n",
    "\n",
    "\n",
    "4.) Forced key word arguments eg function(a, b, *,c, d) every variable after the star should be a key word variable like c and d.\n",
    "\n",
    "\n",
    "5.) unpacking arguments. eg def func(a, b, c): .... then you asign a list or tuple (2, 3, 5) as fun(*list/tuple). You can also use a dict to upack for a key word arguments.\n",
    "\n",
    "\n",
    "6.) To convert a local variable to a global variable use global variable_name.\n",
    "\n",
    "\n",
    "7.) Mutable objects like lists can be changed inside some function to affect global contents. Immutable objects like an integer or a tuple cannot be changed.\n",
    "\n",
    "\n",
    "\n",
    "\n"
   ]
  },
  {
   "cell_type": "markdown",
   "metadata": {},
   "source": [
    " ## Uses of the Asterics  (*)"
   ]
  },
  {
   "cell_type": "code",
   "execution_count": 3,
   "metadata": {},
   "outputs": [
    {
     "name": "stdout",
     "output_type": "stream",
     "text": [
      "AB AB AB AB AB \n"
     ]
    }
   ],
   "source": [
    "# One can be multiplication. Two can be for power operation.\n",
    "\n",
    "# Can be used to create a list\n",
    "\n",
    "zeros_and_ones = [0, 1]*10\n",
    "letters = 'AB'*5\n",
    "print(letters)"
   ]
  },
  {
   "cell_type": "markdown",
   "metadata": {},
   "source": [
    "#### Asterics for *args and **kwargs. Args is a tupleand kwargs is a dictionary\n",
    "\n",
    "#### unpacking args and kwargs from lists, tuples and dictionaries where applicable\n",
    "\n",
    "\n"
   ]
  },
  {
   "cell_type": "code",
   "execution_count": 4,
   "metadata": {},
   "outputs": [
    {
     "name": "stdout",
     "output_type": "stream",
     "text": [
      "Student name: Keith \n",
      " Student surname: Satuku \n",
      " got [79, 98, 23]\n"
     ]
    }
   ],
   "source": [
    "# Unpacking from a list or tuple to return all last or all initial elements in a list. This always returns a list\n",
    "\n",
    "name, surname, *marks = ['Keith', 'Satuku',79, 98, 23]\n",
    "print(f'Student name: {name} \\n Student surname: {surname} \\n got {marks}')\n",
    "\n",
    "#The opposite works as well\n",
    "\n",
    "# You can also do first, *middle, second_last, last to get the variable"
   ]
  },
  {
   "cell_type": "code",
   "execution_count": 5,
   "metadata": {},
   "outputs": [
    {
     "name": "stdout",
     "output_type": "stream",
     "text": [
      "[2, 3, 5, 7, 17, 11, 13]\n"
     ]
    }
   ],
   "source": [
    "# Can also be used to merge two dictionaries, lists, list and a tupleor list and a set\n",
    "\n",
    "my_list = [2, 3, 5, 7]\n",
    "my_set = {11, 13, 17}\n",
    "merged = [*my_list, *my_set]\n",
    "print(merged)\n",
    "\n",
    "first_dict = {'name': 'Bruno', 'Surname': 'Fernandez', 'Nation': 'Portugal'}\n",
    "second_dict = {'position': 10, 'passing accuracy': 84.00}"
   ]
  },
  {
   "cell_type": "code",
   "execution_count": null,
   "metadata": {},
   "outputs": [],
   "source": []
  }
 ],
 "metadata": {
  "kernelspec": {
   "display_name": "Python 3",
   "language": "python",
   "name": "python3"
  },
  "language_info": {
   "codemirror_mode": {
    "name": "ipython",
    "version": 3
   },
   "file_extension": ".py",
   "mimetype": "text/x-python",
   "name": "python",
   "nbconvert_exporter": "python",
   "pygments_lexer": "ipython3",
   "version": "3.7.6"
  }
 },
 "nbformat": 4,
 "nbformat_minor": 4
}

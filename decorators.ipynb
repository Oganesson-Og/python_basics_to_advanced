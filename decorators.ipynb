{
 "cells": [
  {
   "cell_type": "markdown",
   "metadata": {},
   "source": [
    "## Decorators"
   ]
  },
  {
   "cell_type": "markdown",
   "metadata": {},
   "source": [
    "A decorator is a function or class. A decorator is a function that takes another function as an argument and extends the functionality of the first function without explicitly changing it"
   ]
  },
  {
   "cell_type": "code",
   "execution_count": 1,
   "metadata": {},
   "outputs": [
    {
     "name": "stdout",
     "output_type": "stream",
     "text": [
      "start\n",
      "Keith\n",
      "end\n"
     ]
    }
   ],
   "source": [
    "def start_end_decorator(func):\n",
    "    \n",
    "    def wrapper():\n",
    "        print('start')\n",
    "        func()\n",
    "        print('end')\n",
    "    return wrapper\n",
    "\n",
    "\n",
    "def print_name():\n",
    "    print('Keith')\n",
    "    \n",
    "var1 = start_end_decorator(print_name)\n",
    "\n",
    "var1()"
   ]
  },
  {
   "cell_type": "markdown",
   "metadata": {},
   "source": [
    "Using a decorator function as shown below"
   ]
  },
  {
   "cell_type": "code",
   "execution_count": 5,
   "metadata": {},
   "outputs": [
    {
     "name": "stdout",
     "output_type": "stream",
     "text": [
      "start one\n",
      "Oganesson\n",
      "end one\n"
     ]
    }
   ],
   "source": [
    "def start_end_decorator1(func):\n",
    "    \n",
    "    def wrapper1():\n",
    "        print('start one')\n",
    "        func()\n",
    "        print('end one')\n",
    "    return wrapper1\n",
    "\n",
    "@start_end_decorator1\n",
    "def print_name1():\n",
    "    print('Oganesson')\n",
    "    \n",
    "#var1 = start_end_decorator(print_name)\n",
    "\n",
    "print_name1()"
   ]
  },
  {
   "cell_type": "markdown",
   "metadata": {},
   "source": [
    "When a function takes arguments then you need to specify  args and kwargs in the wrapper function"
   ]
  },
  {
   "cell_type": "code",
   "execution_count": 10,
   "metadata": {},
   "outputs": [
    {
     "name": "stdout",
     "output_type": "stream",
     "text": [
      "start one\n",
      "Oganesson is an amazing chemist\n",
      "end one\n",
      "chemist hello chemist\n"
     ]
    }
   ],
   "source": [
    "def start_end_decorator1(func):\n",
    "    \n",
    "    def wrapper1(*args,  **kwargs):\n",
    "        print('start one')\n",
    "        result = func(*args, **kwargs)\n",
    "        print('end one')\n",
    "        return result\n",
    "    return wrapper1\n",
    "\n",
    "@start_end_decorator1\n",
    "def print_name1(x):\n",
    "    print(f'Oganesson is an amazing {x}')\n",
    "    return x+' hello '+x\n",
    "    \n",
    "#var1 = start_end_decorator(print_name)\n",
    "\n",
    "result = print_name1('chemist')\n",
    "print(result)"
   ]
  },
  {
   "cell_type": "markdown",
   "metadata": {},
   "source": [
    "# To get the actual return on the inner function you need to use return in the decorator "
   ]
  },
  {
   "cell_type": "code",
   "execution_count": 11,
   "metadata": {},
   "outputs": [
    {
     "name": "stdout",
     "output_type": "stream",
     "text": [
      "start one\n",
      "Oganesson is an amazing chemist\n",
      "end one\n",
      "None\n",
      "Help on function wrapper1 in module __main__:\n",
      "\n",
      "wrapper1(*args, **kwargs)\n",
      "\n",
      "None\n",
      "wrapper1\n"
     ]
    }
   ],
   "source": [
    "def start_end_decorator1(func):\n",
    "    \n",
    "    def wrapper1(*args,  **kwargs):\n",
    "        print('start one')\n",
    "        func(*args, **kwargs)\n",
    "        print('end one')\n",
    "    return wrapper1\n",
    "\n",
    "@start_end_decorator1\n",
    "def print_name1(x):\n",
    "    print(f'Oganesson is an amazing {x}')\n",
    "    return x+' hello'+x\n",
    "    \n",
    "#var1 = start_end_decorator(print_name)\n",
    "\n",
    "result = print_name1('chemist')\n",
    "print(result)\n",
    "print(help(print_name1))\n",
    "print(print_name1.__name__)"
   ]
  },
  {
   "cell_type": "markdown",
   "metadata": {},
   "source": [
    "You can see that thecompiler of Python is confused so it's picking the wrapper name instead of the print_name1 name"
   ]
  },
  {
   "cell_type": "code",
   "execution_count": 13,
   "metadata": {},
   "outputs": [
    {
     "name": "stdout",
     "output_type": "stream",
     "text": [
      "start one\n",
      "Oganesson is an amazing chemist\n",
      "end one\n",
      "None\n",
      "Help on function print_name1 in module __main__:\n",
      "\n",
      "print_name1(x)\n",
      "\n",
      "None\n",
      "print_name1\n"
     ]
    }
   ],
   "source": [
    "import functools\n",
    "\n",
    "def start_end_decorator1(func):\n",
    "    \n",
    "    @functools.wraps(func)\n",
    "    def wrapper1(*args,  **kwargs):\n",
    "        print('start one')\n",
    "        func(*args, **kwargs)\n",
    "        print('end one')\n",
    "    return wrapper1\n",
    "\n",
    "@start_end_decorator1\n",
    "def print_name1(x):\n",
    "    print(f'Oganesson is an amazing {x}')\n",
    "    return x+' hello'+x\n",
    "    \n",
    "#var1 = start_end_decorator(print_name)\n",
    "\n",
    "result = print_name1('chemist')\n",
    "print(result)\n",
    "print(help(print_name1))\n",
    "print(print_name1.__name__)"
   ]
  },
  {
   "cell_type": "markdown",
   "metadata": {},
   "source": [
    "# Template for wrapper functions"
   ]
  },
  {
   "cell_type": "code",
   "execution_count": 15,
   "metadata": {},
   "outputs": [
    {
     "name": "stdout",
     "output_type": "stream",
     "text": [
      "start one\n",
      "Oganesson is an amazing chemist\n",
      "end one\n",
      "None\n"
     ]
    }
   ],
   "source": [
    "import functools\n",
    "\n",
    "\n",
    "def my_decorator(func):\n",
    "    \n",
    "    @functools.wraps(func)\n",
    "    def wrapper(*args,  **kwargs):\n",
    "        \"\"\"\n",
    "        Here you can add code to to something then include the wrapped function below.\n",
    "        \"\"\"\n",
    "        result = func(*args, **kwargs)\n",
    "        \"\"\"\n",
    "        When the wrapped function is done then you can do more things with new code before returning a result below\n",
    "        \"\"\"\n",
    "    return result\n",
    "\n",
    "\"\"\"\n",
    "Here you can now add a decorator on top of the function to be decorated.\n",
    "\"\"\"\n",
    "@start_end_decorator1\n",
    "def print_name1(x):\n",
    "    print(f'Oganesson is an amazing {x}')\n",
    "    return x+' hello'+x\n",
    "    \n",
    "#var1 = start_end_decorator(print_name)\n",
    "\n",
    "result = print_name1('chemist')\n",
    "print(result)"
   ]
  },
  {
   "cell_type": "markdown",
   "metadata": {},
   "source": [
    "# Using decorators to repeat function applications"
   ]
  },
  {
   "cell_type": "code",
   "execution_count": 19,
   "metadata": {},
   "outputs": [
    {
     "name": "stdout",
     "output_type": "stream",
     "text": [
      "Hello Keith\n",
      "Hello Keith\n",
      "Hello Keith\n",
      "Hello Keith\n"
     ]
    }
   ],
   "source": [
    "import functools\n",
    "\n",
    "\n",
    "def repeat(num_times):\n",
    "    def decorator_repeat(func):\n",
    "        \n",
    "        @functools.wraps(func)\n",
    "        def wrapper(*args,  **kwargs):\n",
    "            for _ in range(num_times):\n",
    "                result = func(*args, **kwargs)\n",
    "            return result\n",
    "        return wrapper\n",
    "    \n",
    "    return decorator_repeat\n",
    "\n",
    "@repeat(num_times=4)\n",
    "def greet(name):\n",
    "    print(f'Hello {name}')\n",
    "    \n",
    "    \n",
    "greet('Keith')"
   ]
  },
  {
   "cell_type": "markdown",
   "metadata": {},
   "source": [
    "# Nested decorators"
   ]
  },
  {
   "cell_type": "code",
   "execution_count": 25,
   "metadata": {},
   "outputs": [
    {
     "name": "stdout",
     "output_type": "stream",
     "text": [
      " Calling wrapper('Keith')\n",
      "start the outer decorator\n",
      "Hello Keith\n",
      "end the outer decorator\n",
      "'wrapper' returned 'Hello Keith'\n"
     ]
    },
    {
     "data": {
      "text/plain": [
       "'Hello Keith'"
      ]
     },
     "execution_count": 25,
     "metadata": {},
     "output_type": "execute_result"
    }
   ],
   "source": [
    "def start_end_decorator(func):\n",
    "    \n",
    "    def wrapper(*args, **kwargs):\n",
    "        print('start the inner decorator')\n",
    "        result = func(*args, **kwargs)\n",
    "        print('end the inner decorator')\n",
    "        return result\n",
    "    \n",
    "    return wrapper\n",
    "\n",
    "\n",
    "def debug(func):\n",
    "    @functools.wraps(func)\n",
    "    def wrapper(*args, **kwargs):\n",
    "        \"\"\"this extracts the name It also exxtracts the\n",
    "        the arguments and key word arguments.\n",
    "        \"\"\"\n",
    "        args_repr = [repr(a) for a in args]\n",
    "        kwargs_repr = [f'{k}={v!r}'  for k, v in kwargs.items()]\n",
    "        signature = \",\".join(args_repr+kwargs_repr)\n",
    "        \"\"\" Prints the information of the function\n",
    "        \"\"\"\n",
    "        print(f' Calling {func.__name__}({signature})')\n",
    "        \"\"\"Excecutes the function\n",
    "        \"\"\"\n",
    "        result = func(*args, **kwargs)\n",
    "        \"\"\"prints the information of the return value \n",
    "        \"\"\"\n",
    "        print(f'{func.__name__!r} returned {result!r}')\n",
    "        return result\n",
    "    return wrapper\n",
    "    \n",
    "    \n",
    "@debug\n",
    "@start_end_decorator\n",
    "def greet(name):\n",
    "    greeting = f'Hello {name}'\n",
    "    print(greeting)\n",
    "    \n",
    "    return greeting\n",
    "    \n",
    "    \n",
    "greet('Keith')"
   ]
  },
  {
   "cell_type": "markdown",
   "metadata": {},
   "source": [
    "# Class decorators"
   ]
  },
  {
   "cell_type": "markdown",
   "metadata": {},
   "source": [
    "Class decorators do the same thing as function decorators except they are usully used when we want to maintain and update a state."
   ]
  },
  {
   "cell_type": "code",
   "execution_count": 30,
   "metadata": {},
   "outputs": [
    {
     "name": "stdout",
     "output_type": "stream",
     "text": [
      "This has executed 1 times\n",
      "Ciao Bella\n",
      "This has executed 2 times\n",
      "Ciao Bella\n",
      "This has executed 3 times\n",
      "Ciao Bella\n"
     ]
    }
   ],
   "source": [
    "# In this example we want to keeptrack of how we executed the function\n",
    "class CountCalls:\n",
    "    \n",
    "    def __init__(self, func):\n",
    "        self.func = func\n",
    "        self.num_calls = 0\n",
    "        \n",
    "    def __call__(self, *args, **kwargs):\n",
    "        self.num_calls+=1\n",
    "        print(f'This has executed {self.num_calls} times')\n",
    "        \n",
    "        return self.func(*args, **kwargs)\n",
    "\n",
    "\n",
    "@CountCalls\n",
    "def hello_beautiful():\n",
    "    print('Ciao Bella')\n",
    "    \n",
    "\n",
    "hello_beautiful()\n",
    "hello_beautiful()\n",
    "hello_beautiful()\n"
   ]
  },
  {
   "cell_type": "markdown",
   "metadata": {},
   "source": [
    "# Typical use cases for decorators"
   ]
  },
  {
   "cell_type": "markdown",
   "metadata": {},
   "source": [
    "You can implement a timer decorator to calculate the execution time of functions, register functions like plugins with register decorators, you can cache their return values and you can use a debug decorator to print out more information about the called function and its arguments. You can use the check decorator tocheck if the arguments fulfil the requirements "
   ]
  }
 ],
 "metadata": {
  "kernelspec": {
   "display_name": "Python 3",
   "language": "python",
   "name": "python3"
  },
  "language_info": {
   "codemirror_mode": {
    "name": "ipython",
    "version": 3
   },
   "file_extension": ".py",
   "mimetype": "text/x-python",
   "name": "python",
   "nbconvert_exporter": "python",
   "pygments_lexer": "ipython3",
   "version": "3.7.6"
  }
 },
 "nbformat": 4,
 "nbformat_minor": 4
}
